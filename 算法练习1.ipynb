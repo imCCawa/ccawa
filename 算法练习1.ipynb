{
 "cells": [
  {
   "cell_type": "markdown",
   "metadata": {},
   "source": [
    "# 基于机器学习的乳腺癌预测\n",
    "#### (请以你的学号作为train_test_split的随机状态)"
   ]
  },
  {
   "cell_type": "markdown",
   "metadata": {},
   "source": [
    "# 一、实验简介"
   ]
  },
  {
   "cell_type": "markdown",
   "metadata": {},
   "source": [
    "## (一）问题描述\n",
    "乳腺癌是全世界妇女最常见的癌症，占所有妇女癌症的16%，是世界范围内妇女死亡的主要原因之一，准确的诊断是乳腺癌治疗中最重要的步骤之一。在本实验中我们通过机器学习的方法能够对肿瘤的良恶性进行自动识别，那么将有可能大大提高检测效率和准确性。\n",
    "\n",
    "本实验我们借助来自威斯康辛州的乳腺癌诊断的历史数据集，结合Sklearn机器学习库中的算法对该数据数据集进行了数据分类并做出预测。\n"
   ]
  },
  {
   "cell_type": "markdown",
   "metadata": {},
   "source": [
    "## （二）数据介绍\n",
    "\n",
    "此实验中的数据总共有569个数据样本数据，数据大小为569X32，要求以8:2的形式拆分出来分别作为训练集与测试集。\n",
    "\n",
    "文件所在的位置“./rxa_data.csv”。\n",
    "\n",
    "特征是由乳腺肿块的细针穿刺(FNA)的数字化图像计算出来的。它们描述了图像中肿瘤的特征:  \n",
    "1) id \tID标识  \n",
    "2) diagnosis\t乳腺组织的诊断(M =恶性，B =良性)  数据集的标签 \n",
    "\n",
    "每个肿瘤的前10个实值特征:  \n",
    "a) radius 半径\n",
    "b) texture 文理(灰度值的标准差)  \n",
    "c) perimeter 周长  \n",
    "d) area 面积  \n",
    "e) smoothness \t平滑程度(半径内的局部变化)  \n",
    "f) compactness 紧密度（=周长*周长/面积-1.0）  \n",
    "g) concavity \t凹度（轮廓凹部的严重程度）  \n",
    "h) concave points 凹缝（轮廓的凹部分）  \n",
    "i) symmetry 对称性  \n",
    "j) fractal dimension 分形维数  \n",
    "\n",
    "对每幅图像计算这些特征的平均值（mean）、标准差（se）、良恶性等，得到30个特征。这些特征值都保留了4位数字。字段中没有缺失的值。在整个569个患者中，一共有357个是良性，212个是恶性。  "
   ]
  },
  {
   "cell_type": "markdown",
   "metadata": {},
   "source": [
    "## （三）环境要求¶\n",
    "1.python 3.x（包括pandas、matplotlib、Numpy、seaborn和sklearn包）\n",
    "\n",
    "2.Jupyter Notebook\n",
    "\n",
    "3.window 7及以上和linux操作系统下运行。"
   ]
  },
  {
   "cell_type": "markdown",
   "metadata": {},
   "source": [
    "## （四）技术说明\n",
    "1.python3.x 语言程序设计\n",
    "\n",
    "2.sklearn包\n",
    "\n",
    "3.《大数据智能分析课程》所学的机器学习算法（包括但不仅限于KNN算法、决策树算法、贝叶斯算法、逻辑回归算法、支持向量机......）"
   ]
  },
  {
   "cell_type": "markdown",
   "metadata": {},
   "source": [
    "# 二、实验目的"
   ]
  },
  {
   "cell_type": "markdown",
   "metadata": {},
   "source": [
    "## （一）知识目标\n",
    "1.调用sklearn库中的机器学习算法实现对乳腺癌数据集预测能力\n",
    "\n",
    "2.掌握机器学习算法在乳腺癌数据集下的初步应用\n",
    "\n",
    "3.掌握运用机器学习算法来实现对历史数据进行分类的能力"
   ]
  },
  {
   "cell_type": "markdown",
   "metadata": {},
   "source": [
    "## （二）技能目标¶\n",
    "1.进一步熟悉sklearn机器学习计算框架和相关包的运用\n",
    "\n",
    "\n",
    "2.掌握机器学习算法在sklearn库中调用实现方式\n",
    "\n",
    "3.掌握初级的数据分析流程"
   ]
  },
  {
   "cell_type": "markdown",
   "metadata": {},
   "source": [
    "## （三）素养目标¶\n",
    "1.锻炼学生利用网络查找、使用资料的能力\n",
    "\n",
    "2.锻炼学生撰写文档的能力\n",
    "\n",
    "3.锻炼学生观察数据、处理数据的能力\n",
    "\n",
    "4.锻炼学生调用算法实现一个完整机器学习流程的能力"
   ]
  },
  {
   "cell_type": "markdown",
   "metadata": {},
   "source": [
    "# 三、 实验任务与要求\n",
    "\n",
    "本实验调用sklearn库中的机器学习模型，将569个样本中的80%作为训练集(以你的学号作为随机状态)输入KNN模型训练，最终对569个样本中的20%实现分类。\n",
    "\n",
    "具体的实验要求如下：\n",
    "\n",
    "1.观察数据集：加载数据集，观察数据集的分布情况，是否有缺失值。\n",
    "\n",
    "2.数据可视化：将30个特征分成三组特征。对三组特征分别画出热力图，来得到特征之间的相关性图。通过观察特征与特征之间的相关性，选择特征与特征之间相关性高的作为模型的输入特征。\n",
    "\n",
    "3.数据处理：若数据中有缺失值，实验里面综合运用pd.replace()，pd.drop等方法实现数据的清洗，使标签变为数值型，好放到模型里面去训练，之后再对特征数据进行进行标准化，便于减少计算量。\n",
    "\n",
    "4.数据的划分：采用sklearn中train_test_split(X,y,test_size=0.2,random_state=设置为你的学号)函数按8:2划分数据集，其中X表示数据集特征，y表示数据集标签，test_size是划分比例,random_state为随机状态（请设置为你的学号）。\n",
    "\n",
    "5.模型训练：从sklearn库中调用KNeighborsClassifier(n_neighbors)函数，设置参数n_neighbors，实现KNN分类模型。\n",
    "\n",
    "6.模型的评估：采用sklearn.metrics中的评估函数accuracy_score（x_test，y_test）评估KNN模型分类的准确度。\n",
    "\n",
    "7.尝试用不同的模型进行训练（已学过的算法：决策树，逻辑回归，svm，随机森林，贝叶斯......），对比算法性能。\n"
   ]
  },
  {
   "cell_type": "markdown",
   "metadata": {},
   "source": [
    "# 四、实验步骤"
   ]
  },
  {
   "cell_type": "markdown",
   "metadata": {},
   "source": [
    "本实验主要由以下几个步骤构成：\n",
    "\n",
    "1.加载相关的包\n",
    "\n",
    "2.加载数据\n",
    "\n",
    "3.数据处理 标签数据的转换(编码)、缺失值检查、数据的可视化、特征选择、数据的标准化、数据的缩放。\n",
    "\n",
    "4.sklearn中调用模型、训练模型、模型的评估。"
   ]
  },
  {
   "cell_type": "markdown",
   "metadata": {},
   "source": [
    "### （一）、加载相关的包\n",
    "1.加载numpy、pandas等包做数据处理。\n",
    "\n",
    "2.加载matplotlib、seaborn包做数据可视化\n",
    "\n",
    "3.从sklearn.neighbors加载KNeighborsClassifier算法函数\n",
    "\n",
    "4.从sklearn.model_selection中加载train_test_split训练集-测试集划分的函数\n",
    "\n",
    "5.从sklearn.metrics中加载accuracy_score来评估分数"
   ]
  },
  {
   "cell_type": "code",
   "execution_count": 110,
   "metadata": {
    "ExecuteTime": {
     "end_time": "2019-10-29T07:15:06.339752Z",
     "start_time": "2019-10-29T07:15:04.413857Z"
    },
    "execution": {
     "iopub.execute_input": "2024-09-29T09:41:04.968610Z",
     "iopub.status.busy": "2024-09-29T09:41:04.967795Z",
     "iopub.status.idle": "2024-09-29T09:41:07.065414Z",
     "shell.execute_reply": "2024-09-29T09:41:07.063852Z",
     "shell.execute_reply.started": "2024-09-29T09:41:04.968567Z"
    },
    "scrolled": true
   },
   "outputs": [],
   "source": [
    "import numpy as np#np包\n",
    "import pandas as pd#问件读取包\n",
    "import seaborn as sns#数据可视化包\n",
    "import matplotlib.pyplot as plt#数据可视化包\n",
    "from sklearn.neighbors import KNeighborsClassifier# KNN分类模型\n",
    "from sklearn.preprocessing import StandardScaler#数据标准化\n",
    "from sklearn.model_selection import train_test_split#数据划分函数\n",
    "from sklearn.metrics import accuracy_score # 评分指标，精确度\n",
    "......"
   ]
  },
  {
   "cell_type": "code",
   "execution_count": null,
   "metadata": {},
   "outputs": [],
   "source": []
  },
  {
   "cell_type": "code",
   "execution_count": null,
   "metadata": {},
   "outputs": [],
   "source": []
  }
 ],
 "metadata": {
  "kernelspec": {
   "display_name": "MachineLearning2023",
   "language": "python",
   "name": "python3"
  },
  "language_info": {
   "codemirror_mode": {
    "name": "ipython",
    "version": 3
   },
   "file_extension": ".py",
   "mimetype": "text/x-python",
   "name": "python",
   "nbconvert_exporter": "python",
   "pygments_lexer": "ipython3",
   "version": "3.8.18"
  }
 },
 "nbformat": 4,
 "nbformat_minor": 4
}
